{
  "nbformat": 4,
  "nbformat_minor": 0,
  "metadata": {
    "colab": {
      "name": "precompute_bert_embeddings.ipynb",
      "provenance": [],
      "collapsed_sections": []
    },
    "kernelspec": {
      "name": "python3",
      "display_name": "Python 3"
    },
    "language_info": {
      "name": "python"
    },
    "accelerator": "GPU",
    "gpuClass": "standard"
  },
  "cells": [
    {
      "cell_type": "markdown",
      "source": [
        "https://mccormickml.com/2019/05/14/BERT-word-embeddings-tutorial/#sentence-vectors"
      ],
      "metadata": {
        "id": "35gwdx7x7SdJ"
      }
    },
    {
      "cell_type": "code",
      "source": [
        "! wget http://images.cocodataset.org/zips/val2014.zip\n",
        "! wget https://raw.githubusercontent.com/tylin/coco-caption/master/annotations/captions_val2014.json\n",
        "! unzip -q val2014.zip"
      ],
      "metadata": {
        "colab": {
          "base_uri": "https://localhost:8080/"
        },
        "id": "o2uYVYZKt1ZY",
        "outputId": "55b8afb3-410c-4ebc-ecdf-e904d52adea3"
      },
      "execution_count": null,
      "outputs": [
        {
          "output_type": "stream",
          "name": "stdout",
          "text": [
            "--2022-07-02 12:27:17--  http://images.cocodataset.org/zips/val2014.zip\n",
            "Resolving images.cocodataset.org (images.cocodataset.org)... 54.231.226.161\n",
            "Connecting to images.cocodataset.org (images.cocodataset.org)|54.231.226.161|:80... connected.\n",
            "HTTP request sent, awaiting response... 200 OK\n",
            "Length: 6645013297 (6.2G) [application/zip]\n",
            "Saving to: ‘val2014.zip’\n",
            "\n",
            "val2014.zip         100%[===================>]   6.19G  13.2MB/s    in 8m 11s  \n",
            "\n",
            "2022-07-02 12:35:28 (12.9 MB/s) - ‘val2014.zip’ saved [6645013297/6645013297]\n",
            "\n",
            "--2022-07-02 12:35:28--  https://raw.githubusercontent.com/tylin/coco-caption/master/annotations/captions_val2014.json\n",
            "Resolving raw.githubusercontent.com (raw.githubusercontent.com)... 185.199.108.133, 185.199.109.133, 185.199.110.133, ...\n",
            "Connecting to raw.githubusercontent.com (raw.githubusercontent.com)|185.199.108.133|:443... connected.\n",
            "HTTP request sent, awaiting response... 200 OK\n",
            "Length: 29707814 (28M) [text/plain]\n",
            "Saving to: ‘captions_val2014.json’\n",
            "\n",
            "captions_val2014.js 100%[===================>]  28.33M  --.-KB/s    in 0.08s   \n",
            "\n",
            "2022-07-02 12:35:32 (334 MB/s) - ‘captions_val2014.json’ saved [29707814/29707814]\n",
            "\n"
          ]
        }
      ]
    },
    {
      "cell_type": "code",
      "source": [
        "!pip install transformers"
      ],
      "metadata": {
        "id": "qTCFd7GTv8YW",
        "colab": {
          "base_uri": "https://localhost:8080/"
        },
        "outputId": "48db4b5f-0cdf-4212-a3c6-b017740ab8a1"
      },
      "execution_count": null,
      "outputs": [
        {
          "output_type": "stream",
          "name": "stdout",
          "text": [
            "Looking in indexes: https://pypi.org/simple, https://us-python.pkg.dev/colab-wheels/public/simple/\n",
            "Collecting transformers\n",
            "  Downloading transformers-4.20.1-py3-none-any.whl (4.4 MB)\n",
            "\u001b[K     |████████████████████████████████| 4.4 MB 31.8 MB/s \n",
            "\u001b[?25hRequirement already satisfied: importlib-metadata in /usr/local/lib/python3.7/dist-packages (from transformers) (4.11.4)\n",
            "Collecting tokenizers!=0.11.3,<0.13,>=0.11.1\n",
            "  Downloading tokenizers-0.12.1-cp37-cp37m-manylinux_2_12_x86_64.manylinux2010_x86_64.whl (6.6 MB)\n",
            "\u001b[K     |████████████████████████████████| 6.6 MB 53.9 MB/s \n",
            "\u001b[?25hRequirement already satisfied: filelock in /usr/local/lib/python3.7/dist-packages (from transformers) (3.7.1)\n",
            "Requirement already satisfied: tqdm>=4.27 in /usr/local/lib/python3.7/dist-packages (from transformers) (4.64.0)\n",
            "Requirement already satisfied: packaging>=20.0 in /usr/local/lib/python3.7/dist-packages (from transformers) (21.3)\n",
            "Requirement already satisfied: regex!=2019.12.17 in /usr/local/lib/python3.7/dist-packages (from transformers) (2022.6.2)\n",
            "Collecting pyyaml>=5.1\n",
            "  Downloading PyYAML-6.0-cp37-cp37m-manylinux_2_5_x86_64.manylinux1_x86_64.manylinux_2_12_x86_64.manylinux2010_x86_64.whl (596 kB)\n",
            "\u001b[K     |████████████████████████████████| 596 kB 59.2 MB/s \n",
            "\u001b[?25hRequirement already satisfied: requests in /usr/local/lib/python3.7/dist-packages (from transformers) (2.23.0)\n",
            "Requirement already satisfied: numpy>=1.17 in /usr/local/lib/python3.7/dist-packages (from transformers) (1.21.6)\n",
            "Collecting huggingface-hub<1.0,>=0.1.0\n",
            "  Downloading huggingface_hub-0.8.1-py3-none-any.whl (101 kB)\n",
            "\u001b[K     |████████████████████████████████| 101 kB 14.3 MB/s \n",
            "\u001b[?25hRequirement already satisfied: typing-extensions>=3.7.4.3 in /usr/local/lib/python3.7/dist-packages (from huggingface-hub<1.0,>=0.1.0->transformers) (4.1.1)\n",
            "Requirement already satisfied: pyparsing!=3.0.5,>=2.0.2 in /usr/local/lib/python3.7/dist-packages (from packaging>=20.0->transformers) (3.0.9)\n",
            "Requirement already satisfied: zipp>=0.5 in /usr/local/lib/python3.7/dist-packages (from importlib-metadata->transformers) (3.8.0)\n",
            "Requirement already satisfied: idna<3,>=2.5 in /usr/local/lib/python3.7/dist-packages (from requests->transformers) (2.10)\n",
            "Requirement already satisfied: urllib3!=1.25.0,!=1.25.1,<1.26,>=1.21.1 in /usr/local/lib/python3.7/dist-packages (from requests->transformers) (1.24.3)\n",
            "Requirement already satisfied: chardet<4,>=3.0.2 in /usr/local/lib/python3.7/dist-packages (from requests->transformers) (3.0.4)\n",
            "Requirement already satisfied: certifi>=2017.4.17 in /usr/local/lib/python3.7/dist-packages (from requests->transformers) (2022.6.15)\n",
            "Installing collected packages: pyyaml, tokenizers, huggingface-hub, transformers\n",
            "  Attempting uninstall: pyyaml\n",
            "    Found existing installation: PyYAML 3.13\n",
            "    Uninstalling PyYAML-3.13:\n",
            "      Successfully uninstalled PyYAML-3.13\n",
            "Successfully installed huggingface-hub-0.8.1 pyyaml-6.0 tokenizers-0.12.1 transformers-4.20.1\n"
          ]
        }
      ]
    },
    {
      "cell_type": "code",
      "source": [
        "import torch\n",
        "from torchvision.datasets import CocoDetection\n",
        "import torchvision.transforms as transforms\n",
        "import pickle as pkl\n",
        "\n",
        "from transformers import BertTokenizer, BertModel"
      ],
      "metadata": {
        "id": "tIdpUg5Xt3mi"
      },
      "execution_count": null,
      "outputs": []
    },
    {
      "cell_type": "code",
      "source": [
        "class UniformCocoCaptions(CocoDetection):\n",
        "    \"\"\"`Same as torchvision.datasets.CocoCaptions, but \n",
        "    always outputs exactly 5 captions (for batch formation)\n",
        "    \"\"\"\n",
        "\n",
        "    def _load_target(self, id: int):\n",
        "        return [\"[CLS] \" + ann[\"caption\"] + \" [SEP]\" for ann in super()._load_target(id)[:1]]"
      ],
      "metadata": {
        "id": "TFPAPNwWun-Y"
      },
      "execution_count": null,
      "outputs": []
    },
    {
      "cell_type": "code",
      "source": [
        "from pathlib import Path\n",
        "from tqdm.notebook import tqdm\n",
        "from torch.utils.data import DataLoader\n",
        "import gc\n",
        "\n",
        "@torch.no_grad()\n",
        "def compute_bert_coco_embeds(coco_images_dir, coco_captions_file,\n",
        "                             batch_size=64, save_root=None,\n",
        "                             save_all_texts=False):\n",
        "\n",
        "    image_save_dir = Path(save_root) / 'image'\n",
        "    image_save_dir.mkdir(parents=True, exist_ok=True)\n",
        "    text_save_dir = Path(save_root) / 'text'\n",
        "    text_save_dir.mkdir(parents=True, exist_ok=True)    \n",
        "\n",
        "    device = torch.device('cuda:0') if torch.cuda.is_available() else torch.device('cpu')\n",
        "    print(f'Using {device}')\n",
        "    print('Loading BERT')\n",
        "    tokenizer = BertTokenizer.from_pretrained('bert-base-uncased')\n",
        "    model = BertModel.from_pretrained('bert-base-uncased', output_hidden_states=True)\n",
        "    model.to(device)\n",
        "    model.eval()\n",
        "    print('Done')\n",
        "    dataset = UniformCocoCaptions(root='/content/val2014',\n",
        "                    annFile='captions_val2014.json',\n",
        "                    transform=transforms.ToTensor())\n",
        "    print('COCO dataset:\\n', dataset)\n",
        "    print(len(dataset))\n",
        "\n",
        "    all_text_embeddings = []\n",
        "    print('Computing embeddings')\n",
        "    for i in tqdm(range(len(dataset))):\n",
        "        texts = dataset[i][1][0]\n",
        "\n",
        "        # Split the sentence into tokens.\n",
        "        tokenized_text = tokenizer.tokenize(texts)\n",
        "        # Map the token strings to their vocabulary indeces.\n",
        "        indexed_tokens = tokenizer.convert_tokens_to_ids(tokenized_text)\n",
        "        \n",
        "        segments_ids = [1] * len(tokenized_text)\n",
        "\n",
        "        # Convert inputs to PyTorch tensors\n",
        "        tokens_tensor = torch.tensor([indexed_tokens]).to(device)\n",
        "        segments_tensors = torch.tensor([segments_ids]).to(device)\n",
        "\n",
        "        outputs = model(tokens_tensor, segments_tensors)\n",
        "        hidden_states = outputs[2]\n",
        "        token_vecs = hidden_states[-2][0]\n",
        "        sentence_embedding = torch.mean(token_vecs, dim=0)\n",
        "\n",
        "        all_text_embeddings.append(sentence_embedding)\n",
        "\n",
        "    torch.save(all_text_embeddings, text_save_dir / 'BERT.pt')\n",
        "    print('Done')\n",
        "    print(f'Text  embeddings: {all_text_embeddings.shape}')\n",
        "    gc.collect()"
      ],
      "metadata": {
        "id": "COynAtS0t4Hw"
      },
      "execution_count": null,
      "outputs": []
    },
    {
      "cell_type": "code",
      "source": [
        "coco_images_dir = 'val2014'\n",
        "coco_captions_file = 'captions_val2014.json'\n",
        "save_root = 'embeddings/coco_val2014'\n",
        "batch_size = 256\n",
        "\n",
        "compute_bert_coco_embeds(coco_images_dir, coco_captions_file,\n",
        "                           batch_size, save_root)"
      ],
      "metadata": {
        "colab": {
          "base_uri": "https://localhost:8080/"
        },
        "id": "FjXOKGuhuRLk",
        "outputId": "14804553-f024-4a62-fc3b-9f6b6808de07"
      },
      "execution_count": null,
      "outputs": [
        {
          "output_type": "stream",
          "name": "stdout",
          "text": [
            "torch.Size([40504, 768])\n"
          ]
        }
      ]
    },
    {
      "cell_type": "code",
      "source": [
        ""
      ],
      "metadata": {
        "id": "7yh-I2rqDlhF"
      },
      "execution_count": null,
      "outputs": []
    }
  ]
}