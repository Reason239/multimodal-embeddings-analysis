{
 "cells": [
  {
   "cell_type": "code",
   "source": [
    "!pip install transformers datasets --quiet\n",
    "!pip install umap-learn --quiet\n",
    "!pip install -U torch==1.7.1 torchvision --quiet\n",
    "!pip install ftfy regex tqdm --quiet\n",
    "!pip install git+https://github.com/openai/CLIP.git --quiet"
   ],
   "metadata": {
    "colab": {
     "base_uri": "https://localhost:8080/"
    },
    "id": "wg3kzP-lGI_r",
    "executionInfo": {
     "status": "ok",
     "timestamp": 1653396305030,
     "user_tz": -180,
     "elapsed": 10490,
     "user": {
      "displayName": "TheYellowBlueWhite",
      "userId": "06339693875169464138"
     }
    },
    "outputId": "87f4d7f1-84e5-4a84-c0c7-db8519b82c51",
    "pycharm": {
     "name": "#%%\n"
    }
   },
   "execution_count": 1,
   "outputs": [
    {
     "output_type": "stream",
     "name": "stdout",
     "text": [
      "Looking in indexes: https://pypi.org/simple, https://us-python.pkg.dev/colab-wheels/public/simple/\n",
      "Collecting datasets\n",
      "  Downloading datasets-2.2.2-py3-none-any.whl (346 kB)\n",
      "\u001B[K     |████████████████████████████████| 346 kB 8.3 MB/s \n",
      "\u001B[?25hRequirement already satisfied: pandas in /usr/local/lib/python3.7/dist-packages (from datasets) (1.3.5)\n",
      "Collecting xxhash\n",
      "  Downloading xxhash-3.0.0-cp37-cp37m-manylinux_2_17_x86_64.manylinux2014_x86_64.whl (212 kB)\n",
      "\u001B[K     |████████████████████████████████| 212 kB 68.3 MB/s \n",
      "\u001B[?25hRequirement already satisfied: requests>=2.19.0 in /usr/local/lib/python3.7/dist-packages (from datasets) (2.23.0)\n",
      "Collecting responses<0.19\n",
      "  Downloading responses-0.18.0-py3-none-any.whl (38 kB)\n",
      "Requirement already satisfied: packaging in /usr/local/lib/python3.7/dist-packages (from datasets) (21.3)\n",
      "Collecting fsspec[http]>=2021.05.0\n",
      "  Downloading fsspec-2022.5.0-py3-none-any.whl (140 kB)\n",
      "\u001B[K     |████████████████████████████████| 140 kB 70.8 MB/s \n",
      "\u001B[?25hCollecting dill<0.3.5\n",
      "  Downloading dill-0.3.4-py2.py3-none-any.whl (86 kB)\n",
      "\u001B[K     |████████████████████████████████| 86 kB 8.2 MB/s \n",
      "\u001B[?25hRequirement already satisfied: pyarrow>=6.0.0 in /usr/local/lib/python3.7/dist-packages (from datasets) (6.0.1)\n",
      "Requirement already satisfied: tqdm>=4.62.1 in /usr/local/lib/python3.7/dist-packages (from datasets) (4.64.0)\n",
      "Requirement already satisfied: numpy>=1.17 in /usr/local/lib/python3.7/dist-packages (from datasets) (1.21.6)\n",
      "Requirement already satisfied: importlib-metadata in /usr/local/lib/python3.7/dist-packages (from datasets) (4.11.3)\n",
      "Collecting aiohttp\n",
      "  Downloading aiohttp-3.8.1-cp37-cp37m-manylinux_2_5_x86_64.manylinux1_x86_64.manylinux_2_12_x86_64.manylinux2010_x86_64.whl (1.1 MB)\n",
      "\u001B[K     |████████████████████████████████| 1.1 MB 61.4 MB/s \n",
      "\u001B[?25hCollecting huggingface-hub<1.0.0,>=0.1.0\n",
      "  Downloading huggingface_hub-0.6.0-py3-none-any.whl (84 kB)\n",
      "\u001B[K     |████████████████████████████████| 84 kB 4.0 MB/s \n",
      "\u001B[?25hRequirement already satisfied: multiprocess in /usr/local/lib/python3.7/dist-packages (from datasets) (0.70.12.2)\n",
      "Requirement already satisfied: filelock in /usr/local/lib/python3.7/dist-packages (from huggingface-hub<1.0.0,>=0.1.0->datasets) (3.7.0)\n",
      "Requirement already satisfied: typing-extensions>=3.7.4.3 in /usr/local/lib/python3.7/dist-packages (from huggingface-hub<1.0.0,>=0.1.0->datasets) (4.2.0)\n",
      "Requirement already satisfied: pyyaml in /usr/local/lib/python3.7/dist-packages (from huggingface-hub<1.0.0,>=0.1.0->datasets) (3.13)\n",
      "Requirement already satisfied: pyparsing!=3.0.5,>=2.0.2 in /usr/local/lib/python3.7/dist-packages (from packaging->datasets) (3.0.9)\n",
      "Requirement already satisfied: idna<3,>=2.5 in /usr/local/lib/python3.7/dist-packages (from requests>=2.19.0->datasets) (2.10)\n",
      "Requirement already satisfied: certifi>=2017.4.17 in /usr/local/lib/python3.7/dist-packages (from requests>=2.19.0->datasets) (2022.5.18.1)\n",
      "Requirement already satisfied: chardet<4,>=3.0.2 in /usr/local/lib/python3.7/dist-packages (from requests>=2.19.0->datasets) (3.0.4)\n",
      "Requirement already satisfied: urllib3!=1.25.0,!=1.25.1,<1.26,>=1.21.1 in /usr/local/lib/python3.7/dist-packages (from requests>=2.19.0->datasets) (1.24.3)\n",
      "Collecting urllib3!=1.25.0,!=1.25.1,<1.26,>=1.21.1\n",
      "  Downloading urllib3-1.25.11-py2.py3-none-any.whl (127 kB)\n",
      "\u001B[K     |████████████████████████████████| 127 kB 71.5 MB/s \n",
      "\u001B[?25hCollecting yarl<2.0,>=1.0\n",
      "  Downloading yarl-1.7.2-cp37-cp37m-manylinux_2_5_x86_64.manylinux1_x86_64.manylinux_2_12_x86_64.manylinux2010_x86_64.whl (271 kB)\n",
      "\u001B[K     |████████████████████████████████| 271 kB 55.4 MB/s \n",
      "\u001B[?25hCollecting async-timeout<5.0,>=4.0.0a3\n",
      "  Downloading async_timeout-4.0.2-py3-none-any.whl (5.8 kB)\n",
      "Collecting asynctest==0.13.0\n",
      "  Downloading asynctest-0.13.0-py3-none-any.whl (26 kB)\n",
      "Collecting multidict<7.0,>=4.5\n",
      "  Downloading multidict-6.0.2-cp37-cp37m-manylinux_2_17_x86_64.manylinux2014_x86_64.whl (94 kB)\n",
      "\u001B[K     |████████████████████████████████| 94 kB 3.4 MB/s \n",
      "\u001B[?25hRequirement already satisfied: charset-normalizer<3.0,>=2.0 in /usr/local/lib/python3.7/dist-packages (from aiohttp->datasets) (2.0.12)\n",
      "Collecting frozenlist>=1.1.1\n",
      "  Downloading frozenlist-1.3.0-cp37-cp37m-manylinux_2_5_x86_64.manylinux1_x86_64.manylinux_2_17_x86_64.manylinux2014_x86_64.whl (144 kB)\n",
      "\u001B[K     |████████████████████████████████| 144 kB 71.9 MB/s \n",
      "\u001B[?25hCollecting aiosignal>=1.1.2\n",
      "  Downloading aiosignal-1.2.0-py3-none-any.whl (8.2 kB)\n",
      "Requirement already satisfied: attrs>=17.3.0 in /usr/local/lib/python3.7/dist-packages (from aiohttp->datasets) (21.4.0)\n",
      "Requirement already satisfied: zipp>=0.5 in /usr/local/lib/python3.7/dist-packages (from importlib-metadata->datasets) (3.8.0)\n",
      "Requirement already satisfied: python-dateutil>=2.7.3 in /usr/local/lib/python3.7/dist-packages (from pandas->datasets) (2.8.2)\n",
      "Requirement already satisfied: pytz>=2017.3 in /usr/local/lib/python3.7/dist-packages (from pandas->datasets) (2022.1)\n",
      "Requirement already satisfied: six>=1.5 in /usr/local/lib/python3.7/dist-packages (from python-dateutil>=2.7.3->pandas->datasets) (1.15.0)\n",
      "Installing collected packages: multidict, frozenlist, yarl, urllib3, asynctest, async-timeout, aiosignal, fsspec, dill, aiohttp, xxhash, responses, huggingface-hub, datasets\n",
      "  Attempting uninstall: urllib3\n",
      "    Found existing installation: urllib3 1.24.3\n",
      "    Uninstalling urllib3-1.24.3:\n",
      "      Successfully uninstalled urllib3-1.24.3\n",
      "  Attempting uninstall: dill\n",
      "    Found existing installation: dill 0.3.5.1\n",
      "    Uninstalling dill-0.3.5.1:\n",
      "      Successfully uninstalled dill-0.3.5.1\n",
      "\u001B[31mERROR: pip's dependency resolver does not currently take into account all the packages that are installed. This behaviour is the source of the following dependency conflicts.\n",
      "datascience 0.10.6 requires folium==0.2.1, but you have folium 0.8.3 which is incompatible.\u001B[0m\n",
      "Successfully installed aiohttp-3.8.1 aiosignal-1.2.0 async-timeout-4.0.2 asynctest-0.13.0 datasets-2.2.2 dill-0.3.4 frozenlist-1.3.0 fsspec-2022.5.0 huggingface-hub-0.6.0 multidict-6.0.2 responses-0.18.0 urllib3-1.25.11 xxhash-3.0.0 yarl-1.7.2\n"
     ]
    }
   ]
  },
  {
   "cell_type": "code",
   "source": [
    "!wget https://www.cl.uni-heidelberg.de/statnlpgroup/wikicaps/wikicaps_v1.0.tar.gz -O /content/parallel_captions.tar.gz\n",
    "!tar -xf parallel_captions.tar.gz"
   ],
   "metadata": {
    "id": "f43fEHub4oi_",
    "pycharm": {
     "name": "#%%\n"
    }
   },
   "execution_count": null,
   "outputs": []
  },
  {
   "cell_type": "code",
   "source": [
    "import matplotlib.pyplot as plt\n",
    "from PIL import Image\n",
    "import numpy as np\n",
    "import os, random\n",
    "import torch\n",
    "\n",
    "import warnings\n",
    "warnings.filterwarnings(\"ignore\")\n",
    "\n",
    "import clip"
   ],
   "metadata": {
    "id": "YXXU3zvK2Zyi",
    "executionInfo": {
     "status": "ok",
     "timestamp": 1653410172641,
     "user_tz": -180,
     "elapsed": 363,
     "user": {
      "displayName": "TheYellowBlueWhite",
      "userId": "06339693875169464138"
     }
    },
    "pycharm": {
     "name": "#%%\n",
     "is_executing": true
    }
   },
   "execution_count": null,
   "outputs": []
  },
  {
   "cell_type": "code",
   "source": [
    "!git clone https://github.com/FreddeFrallan/Multilingual-CLIP\n",
    "!mv /content/Multilingual-CLIP /content/MultilingualCLIP\n",
    "%cd MultilingualCLIP\n",
    "!bash get-weights.sh"
   ],
   "metadata": {
    "colab": {
     "base_uri": "https://localhost:8080/"
    },
    "id": "uqCAGkehJoww",
    "executionInfo": {
     "status": "ok",
     "timestamp": 1653410202361,
     "user_tz": -180,
     "elapsed": 10504,
     "user": {
      "displayName": "TheYellowBlueWhite",
      "userId": "06339693875169464138"
     }
    },
    "outputId": "e1858e60-7ad2-43d4-8c83-6ab6f7c1ff20",
    "pycharm": {
     "name": "#%%\n"
    }
   },
   "execution_count": 4,
   "outputs": [
    {
     "output_type": "stream",
     "name": "stdout",
     "text": [
      "/content/MultilingualCLIP\n",
      "--2022-05-24 16:36:32--  https://www.dropbox.com/s/s77xw5308jeljlp/Swedish-500k%20Linear%20Weights.pkl\n",
      "Resolving www.dropbox.com (www.dropbox.com)... 162.125.65.18, 2620:100:6021:18::a27d:4112\n",
      "Connecting to www.dropbox.com (www.dropbox.com)|162.125.65.18|:443... connected.\n",
      "HTTP request sent, awaiting response... 301 Moved Permanently\n",
      "Location: /s/raw/s77xw5308jeljlp/Swedish-500k%20Linear%20Weights.pkl [following]\n",
      "--2022-05-24 16:36:33--  https://www.dropbox.com/s/raw/s77xw5308jeljlp/Swedish-500k%20Linear%20Weights.pkl\n",
      "Reusing existing connection to www.dropbox.com:443.\n",
      "HTTP request sent, awaiting response... 302 Found\n",
      "Location: https://ucbf5d7acab3a6b3671bb8b62807.dl.dropboxusercontent.com/cd/0/inline/Bl64vA9FcM8H9l10iOOh87VFELTpNni_Vke-ZJyQpgg1K5-4DZqAo96gMtDV1-7MOHgRWmPlGgCehTEXwbd7YH-QYKAHnJ7llBaoKzLU54eeMxe1vEs-sbxukfgtj5epwxoE-iadUeAHeof6Dzqg_rahsHbPfhRVHwYjlvUOrmcR5g/file# [following]\n",
      "--2022-05-24 16:36:33--  https://ucbf5d7acab3a6b3671bb8b62807.dl.dropboxusercontent.com/cd/0/inline/Bl64vA9FcM8H9l10iOOh87VFELTpNni_Vke-ZJyQpgg1K5-4DZqAo96gMtDV1-7MOHgRWmPlGgCehTEXwbd7YH-QYKAHnJ7llBaoKzLU54eeMxe1vEs-sbxukfgtj5epwxoE-iadUeAHeof6Dzqg_rahsHbPfhRVHwYjlvUOrmcR5g/file\n",
      "Resolving ucbf5d7acab3a6b3671bb8b62807.dl.dropboxusercontent.com (ucbf5d7acab3a6b3671bb8b62807.dl.dropboxusercontent.com)... 162.125.65.15, 2620:100:6021:15::a27d:410f\n",
      "Connecting to ucbf5d7acab3a6b3671bb8b62807.dl.dropboxusercontent.com (ucbf5d7acab3a6b3671bb8b62807.dl.dropboxusercontent.com)|162.125.65.15|:443... connected.\n",
      "HTTP request sent, awaiting response... 302 Found\n",
      "Location: /cd/0/inline2/Bl5elJQVwXJy9WBqVcfoJxEuKw49MsYDEtptLKvZ1Eg0gKvwvaloVjVZTJwWcqNTauTp9m9VHKxiKdydAy46Wz_m_6kzjLPhLTF1aerZHMb7xg6YU-jXWmaoj2Z8zfvwVuCquN8H36hj6NvSPg24ecbbibKjgnWpi3Eexn6N5EJv6WI1y46eHtV9JgkuOUe8HnmYfRxjKAmkimaX0fNV9YTbi4gyJYdNfpuNdZTOL4hKqHchdMVD3BFxYT8Mz8cPSQ5LivWnEzD_x-JHvUcbRUgpQn4xHlrGldHBBzyk_a0SqzBpOys_HEKU7YfJvBg0P2ZeUhT9ksSgjFDwoI4u9aGuCKPKhOW9zujypwm0XOV1z_g6APM8YHXxbxckFmZex1x6YJXDL3QeYHbqOgXtb-h7bu1Tap9T3pem7RGZu05bsA/file [following]\n",
      "--2022-05-24 16:36:34--  https://ucbf5d7acab3a6b3671bb8b62807.dl.dropboxusercontent.com/cd/0/inline2/Bl5elJQVwXJy9WBqVcfoJxEuKw49MsYDEtptLKvZ1Eg0gKvwvaloVjVZTJwWcqNTauTp9m9VHKxiKdydAy46Wz_m_6kzjLPhLTF1aerZHMb7xg6YU-jXWmaoj2Z8zfvwVuCquN8H36hj6NvSPg24ecbbibKjgnWpi3Eexn6N5EJv6WI1y46eHtV9JgkuOUe8HnmYfRxjKAmkimaX0fNV9YTbi4gyJYdNfpuNdZTOL4hKqHchdMVD3BFxYT8Mz8cPSQ5LivWnEzD_x-JHvUcbRUgpQn4xHlrGldHBBzyk_a0SqzBpOys_HEKU7YfJvBg0P2ZeUhT9ksSgjFDwoI4u9aGuCKPKhOW9zujypwm0XOV1z_g6APM8YHXxbxckFmZex1x6YJXDL3QeYHbqOgXtb-h7bu1Tap9T3pem7RGZu05bsA/file\n",
      "Reusing existing connection to ucbf5d7acab3a6b3671bb8b62807.dl.dropboxusercontent.com:443.\n",
      "HTTP request sent, awaiting response... 200 OK\n",
      "\n",
      "    The file is already fully retrieved; nothing to do.\n",
      "\n",
      "--2022-05-24 16:36:34--  https://www.dropbox.com/s/82c54rsvlry3kwh/Swedish-2M%20Linear%20Weights.pkl\n",
      "Resolving www.dropbox.com (www.dropbox.com)... 162.125.65.18, 2620:100:6021:18::a27d:4112\n",
      "Connecting to www.dropbox.com (www.dropbox.com)|162.125.65.18|:443... connected.\n",
      "HTTP request sent, awaiting response... 301 Moved Permanently\n",
      "Location: /s/raw/82c54rsvlry3kwh/Swedish-2M%20Linear%20Weights.pkl [following]\n",
      "--2022-05-24 16:36:34--  https://www.dropbox.com/s/raw/82c54rsvlry3kwh/Swedish-2M%20Linear%20Weights.pkl\n",
      "Reusing existing connection to www.dropbox.com:443.\n",
      "HTTP request sent, awaiting response... 302 Found\n",
      "Location: https://ucbb39a0c73a6de775ea2801137c.dl.dropboxusercontent.com/cd/0/inline/Bl7K4olspPl1nMSPCdN5CS4tSIj0MXSH152y4qDvKBzklcEx8ObSW0PzYfMpxdgLHMFYaesESJfYjyD-EbSZszfA6mNmLZCg7ILQ8MoXc6Qu1V2zBa60j4aK7ZlOnfNKWeroGsUQr-jlXLqNC9PJrCh1YRzZjwROf7Sv88IJj8c70w/file# [following]\n",
      "--2022-05-24 16:36:35--  https://ucbb39a0c73a6de775ea2801137c.dl.dropboxusercontent.com/cd/0/inline/Bl7K4olspPl1nMSPCdN5CS4tSIj0MXSH152y4qDvKBzklcEx8ObSW0PzYfMpxdgLHMFYaesESJfYjyD-EbSZszfA6mNmLZCg7ILQ8MoXc6Qu1V2zBa60j4aK7ZlOnfNKWeroGsUQr-jlXLqNC9PJrCh1YRzZjwROf7Sv88IJj8c70w/file\n",
      "Resolving ucbb39a0c73a6de775ea2801137c.dl.dropboxusercontent.com (ucbb39a0c73a6de775ea2801137c.dl.dropboxusercontent.com)... 162.125.65.15, 2620:100:6027:15::a27d:480f\n",
      "Connecting to ucbb39a0c73a6de775ea2801137c.dl.dropboxusercontent.com (ucbb39a0c73a6de775ea2801137c.dl.dropboxusercontent.com)|162.125.65.15|:443... connected.\n",
      "HTTP request sent, awaiting response... 302 Found\n",
      "Location: /cd/0/inline2/Bl6ClQNjdU2YSbcp4TmZ1qi6nOz2G1GtHlbj1Dn1H5_bpKGRSGWUz4heWKBngLEfd4xaTRS23jGgtELw-r3f0cOtzOoxmp_3yhXWJB-iMJlFlGETUTdGtUrj527qOR03fDyJTrWYd8hMghYxn7dSsMqePa0jy5AoUBaNUx0PDvA58c2gIXt1Ru8NeNA3zQh0MY17lP_BSa5hlPrOLF-UJhKJS28d1DQ_MJMrufbcsEoP2RH0Ab5ibNhPGHMkfkDlTDqtcsxMpVZ3QyOxp5YjiUx6NGRXYUJ-xWZdOEbU-_HNNab-Gm4dmGKEZebmK_uW9lA3Jnp4mlkIB8VgZr1z7GOfJWOfueSK3Z7X8_xeop_SFXQwHohOetNnAi--yLbKadnAHTmvAxZa4M78i131iEgLEaL5LHYLE_OfTCMEY4gd-A/file [following]\n",
      "--2022-05-24 16:36:36--  https://ucbb39a0c73a6de775ea2801137c.dl.dropboxusercontent.com/cd/0/inline2/Bl6ClQNjdU2YSbcp4TmZ1qi6nOz2G1GtHlbj1Dn1H5_bpKGRSGWUz4heWKBngLEfd4xaTRS23jGgtELw-r3f0cOtzOoxmp_3yhXWJB-iMJlFlGETUTdGtUrj527qOR03fDyJTrWYd8hMghYxn7dSsMqePa0jy5AoUBaNUx0PDvA58c2gIXt1Ru8NeNA3zQh0MY17lP_BSa5hlPrOLF-UJhKJS28d1DQ_MJMrufbcsEoP2RH0Ab5ibNhPGHMkfkDlTDqtcsxMpVZ3QyOxp5YjiUx6NGRXYUJ-xWZdOEbU-_HNNab-Gm4dmGKEZebmK_uW9lA3Jnp4mlkIB8VgZr1z7GOfJWOfueSK3Z7X8_xeop_SFXQwHohOetNnAi--yLbKadnAHTmvAxZa4M78i131iEgLEaL5LHYLE_OfTCMEY4gd-A/file\n",
      "Reusing existing connection to ucbb39a0c73a6de775ea2801137c.dl.dropboxusercontent.com:443.\n",
      "HTTP request sent, awaiting response... 200 OK\n",
      "\n",
      "    The file is already fully retrieved; nothing to do.\n",
      "\n",
      "--2022-05-24 16:36:36--  https://www.dropbox.com/s/oihqzctnty5e9kk/M-BERT%20Distil%2040%20Linear%20Weights.pkl\n",
      "Resolving www.dropbox.com (www.dropbox.com)... 162.125.65.18, 2620:100:6021:18::a27d:4112\n",
      "Connecting to www.dropbox.com (www.dropbox.com)|162.125.65.18|:443... connected.\n",
      "HTTP request sent, awaiting response... 301 Moved Permanently\n",
      "Location: /s/raw/oihqzctnty5e9kk/M-BERT%20Distil%2040%20Linear%20Weights.pkl [following]\n",
      "--2022-05-24 16:36:37--  https://www.dropbox.com/s/raw/oihqzctnty5e9kk/M-BERT%20Distil%2040%20Linear%20Weights.pkl\n",
      "Reusing existing connection to www.dropbox.com:443.\n",
      "HTTP request sent, awaiting response... 302 Found\n",
      "Location: https://uc9694e483081aa611e9edc38345.dl.dropboxusercontent.com/cd/0/inline/Bl5VbLcvkR-QJEBENkS8a2x2rKHGVF5vG3Mky28ncqbGSQne77fuYSwEUycLUSNjD9Bf5qsF6g2nzmel5Wg6V-VE3BUTRYbiXLCfVlG991VQCSq7eiDmIaCYzwET-UP_tqihvzxppEv_p1pcYRk9hMays45QEj1xZ8tIhjVb2mxZUA/file# [following]\n",
      "--2022-05-24 16:36:37--  https://uc9694e483081aa611e9edc38345.dl.dropboxusercontent.com/cd/0/inline/Bl5VbLcvkR-QJEBENkS8a2x2rKHGVF5vG3Mky28ncqbGSQne77fuYSwEUycLUSNjD9Bf5qsF6g2nzmel5Wg6V-VE3BUTRYbiXLCfVlG991VQCSq7eiDmIaCYzwET-UP_tqihvzxppEv_p1pcYRk9hMays45QEj1xZ8tIhjVb2mxZUA/file\n",
      "Resolving uc9694e483081aa611e9edc38345.dl.dropboxusercontent.com (uc9694e483081aa611e9edc38345.dl.dropboxusercontent.com)... 162.125.65.15, 2620:100:6021:15::a27d:410f\n",
      "Connecting to uc9694e483081aa611e9edc38345.dl.dropboxusercontent.com (uc9694e483081aa611e9edc38345.dl.dropboxusercontent.com)|162.125.65.15|:443... connected.\n",
      "HTTP request sent, awaiting response... 302 Found\n",
      "Location: /cd/0/inline2/Bl4DM2R69DE6VFshyUx2ephR2-0lVamcdo04jnokbzEP8q7tza4LWc9bXcw_JR1SOLui-f2HdTpjsK-GdRWxf8AF1kD5NWfpPGoTA05XOFzpvBzGtHOo1M0Zc_jghQOOpZo8dy_m7U-VRx4mCojnANfmX1a_RJGncLtoF4Wwl8xJyuTZL7vBYWQJbvgkzx29ZSlgZperqcuRumdi-YQ1IGAuYxn9BQhTmijPSf7Q5hcn9rtm6exeeucfmD_V43m_mT9maT44LNCo4qbpDIpqr16fowB7bQ4bx789U1_xrbk_9YsrgENFF6JAaSZNz-9XkoAnBffahG2lGTz32YBQykNEBCtXH2hampza-t0GU0Dx9NDRfPJOWIfmnWL5ZCIPCas47PZ8gxU6iAHReMaOnsze-t1uHM10Qs6eGHMCgQgdsA/file [following]\n",
      "--2022-05-24 16:36:38--  https://uc9694e483081aa611e9edc38345.dl.dropboxusercontent.com/cd/0/inline2/Bl4DM2R69DE6VFshyUx2ephR2-0lVamcdo04jnokbzEP8q7tza4LWc9bXcw_JR1SOLui-f2HdTpjsK-GdRWxf8AF1kD5NWfpPGoTA05XOFzpvBzGtHOo1M0Zc_jghQOOpZo8dy_m7U-VRx4mCojnANfmX1a_RJGncLtoF4Wwl8xJyuTZL7vBYWQJbvgkzx29ZSlgZperqcuRumdi-YQ1IGAuYxn9BQhTmijPSf7Q5hcn9rtm6exeeucfmD_V43m_mT9maT44LNCo4qbpDIpqr16fowB7bQ4bx789U1_xrbk_9YsrgENFF6JAaSZNz-9XkoAnBffahG2lGTz32YBQykNEBCtXH2hampza-t0GU0Dx9NDRfPJOWIfmnWL5ZCIPCas47PZ8gxU6iAHReMaOnsze-t1uHM10Qs6eGHMCgQgdsA/file\n",
      "Reusing existing connection to uc9694e483081aa611e9edc38345.dl.dropboxusercontent.com:443.\n",
      "HTTP request sent, awaiting response... 200 OK\n",
      "\n",
      "    The file is already fully retrieved; nothing to do.\n",
      "\n",
      "--2022-05-24 16:36:38--  https://www.dropbox.com/s/y4pycinv0eapeb3/M-BERT-Base-69%20Linear%20Weights.pkl\n",
      "Resolving www.dropbox.com (www.dropbox.com)... 162.125.65.18, 2620:100:6021:18::a27d:4112\n",
      "Connecting to www.dropbox.com (www.dropbox.com)|162.125.65.18|:443... connected.\n",
      "HTTP request sent, awaiting response... 301 Moved Permanently\n",
      "Location: /s/raw/y4pycinv0eapeb3/M-BERT-Base-69%20Linear%20Weights.pkl [following]\n",
      "--2022-05-24 16:36:39--  https://www.dropbox.com/s/raw/y4pycinv0eapeb3/M-BERT-Base-69%20Linear%20Weights.pkl\n",
      "Reusing existing connection to www.dropbox.com:443.\n",
      "HTTP request sent, awaiting response... 302 Found\n",
      "Location: https://ucd0896596d90124da0254b8a24e.dl.dropboxusercontent.com/cd/0/inline/Bl6q7WjOl1MrR0B24WqgCaGENI5q8qib4_DRhJYDlYJwaVAYQuuQfA_nESWSSfMhARkkiUojQywIkEkAbWSrDw-1rEdCW3v-uKpmOkshof45IjZvZ5bARpWUHc305M9ntB0YPKulmWV3im-HDo_Ev_3pczrtwkbsPKJ_uEtKbt72BQ/file# [following]\n",
      "--2022-05-24 16:36:39--  https://ucd0896596d90124da0254b8a24e.dl.dropboxusercontent.com/cd/0/inline/Bl6q7WjOl1MrR0B24WqgCaGENI5q8qib4_DRhJYDlYJwaVAYQuuQfA_nESWSSfMhARkkiUojQywIkEkAbWSrDw-1rEdCW3v-uKpmOkshof45IjZvZ5bARpWUHc305M9ntB0YPKulmWV3im-HDo_Ev_3pczrtwkbsPKJ_uEtKbt72BQ/file\n",
      "Resolving ucd0896596d90124da0254b8a24e.dl.dropboxusercontent.com (ucd0896596d90124da0254b8a24e.dl.dropboxusercontent.com)... 162.125.71.15, 2620:100:6021:15::a27d:410f\n",
      "Connecting to ucd0896596d90124da0254b8a24e.dl.dropboxusercontent.com (ucd0896596d90124da0254b8a24e.dl.dropboxusercontent.com)|162.125.71.15|:443... connected.\n",
      "HTTP request sent, awaiting response... 302 Found\n",
      "Location: /cd/0/inline2/Bl5poV0D3Bwyd1we0Wl8ucu0DVBj_b-IXlexmKpL-VX-Gsftpxji7wUVzPU_ezaA8f3orQ8pgnnQ250l2PSa_snV2VCMhOpffMWM62ET50qyAa6CdW5wlF31pVQTB38YwADnF1vvjuWOtymuEyQzmq8jH8YZcJ-wr0wEoHlJZjy9XVTSsdgAOaHpw9b3tY9Z4YNi3zJTPP8RlIu1vX28nuQP5a7nh2zOSpWEhNTZfHxsBdix2ZJvtDQy3aG5RsaDzH5bfbsIWzfg9SGDell4S5vR_Lv9YajhQil_Q7NVtC1fo-IPk2jAeURVPlrlNuHmmppM3eqPyF9xccTu2Gn__S3wedcfQSDk96nckTOjMXMFLZtHo1dhyx939dGPEtVGzJhQXQN_RYdKufjbD-Q-ueGO_YWozKBH8Q_wTA3k_t2qsA/file [following]\n",
      "--2022-05-24 16:36:40--  https://ucd0896596d90124da0254b8a24e.dl.dropboxusercontent.com/cd/0/inline2/Bl5poV0D3Bwyd1we0Wl8ucu0DVBj_b-IXlexmKpL-VX-Gsftpxji7wUVzPU_ezaA8f3orQ8pgnnQ250l2PSa_snV2VCMhOpffMWM62ET50qyAa6CdW5wlF31pVQTB38YwADnF1vvjuWOtymuEyQzmq8jH8YZcJ-wr0wEoHlJZjy9XVTSsdgAOaHpw9b3tY9Z4YNi3zJTPP8RlIu1vX28nuQP5a7nh2zOSpWEhNTZfHxsBdix2ZJvtDQy3aG5RsaDzH5bfbsIWzfg9SGDell4S5vR_Lv9YajhQil_Q7NVtC1fo-IPk2jAeURVPlrlNuHmmppM3eqPyF9xccTu2Gn__S3wedcfQSDk96nckTOjMXMFLZtHo1dhyx939dGPEtVGzJhQXQN_RYdKufjbD-Q-ueGO_YWozKBH8Q_wTA3k_t2qsA/file\n",
      "Reusing existing connection to ucd0896596d90124da0254b8a24e.dl.dropboxusercontent.com:443.\n",
      "HTTP request sent, awaiting response... 200 OK\n",
      "\n",
      "    The file is already fully retrieved; nothing to do.\n",
      "\n",
      "--2022-05-24 16:36:40--  https://www.dropbox.com/s/2oxu7hw0y9fwdqs/M-BERT-Base-69-ViT%20Linear%20Weights.pkl\n",
      "Resolving www.dropbox.com (www.dropbox.com)... 162.125.65.18, 2620:100:6021:18::a27d:4112\n",
      "Connecting to www.dropbox.com (www.dropbox.com)|162.125.65.18|:443... connected.\n",
      "HTTP request sent, awaiting response... 301 Moved Permanently\n",
      "Location: /s/raw/2oxu7hw0y9fwdqs/M-BERT-Base-69-ViT%20Linear%20Weights.pkl [following]\n",
      "--2022-05-24 16:36:40--  https://www.dropbox.com/s/raw/2oxu7hw0y9fwdqs/M-BERT-Base-69-ViT%20Linear%20Weights.pkl\n",
      "Reusing existing connection to www.dropbox.com:443.\n",
      "HTTP request sent, awaiting response... 302 Found\n",
      "Location: https://uc1c67f5ba55935dade13985bb38.dl.dropboxusercontent.com/cd/0/inline/Bl4SQcJpsvdz_NkTGUOwXPjPqf43ZDWM_xAZd4LI3qT2l4jS8ij37JUIJAVtUCTQ51hUY0bw1GDz3nItpkmFVeFPKALyCL-Dfexl0PVU0Xi4X-fqw3TmQPy_WduLTpEY9etI77cm4D_JPUX74QPqvrO1YSwsnGIzYgaYFDZ0R8u_Tg/file# [following]\n",
      "--2022-05-24 16:36:41--  https://uc1c67f5ba55935dade13985bb38.dl.dropboxusercontent.com/cd/0/inline/Bl4SQcJpsvdz_NkTGUOwXPjPqf43ZDWM_xAZd4LI3qT2l4jS8ij37JUIJAVtUCTQ51hUY0bw1GDz3nItpkmFVeFPKALyCL-Dfexl0PVU0Xi4X-fqw3TmQPy_WduLTpEY9etI77cm4D_JPUX74QPqvrO1YSwsnGIzYgaYFDZ0R8u_Tg/file\n",
      "Resolving uc1c67f5ba55935dade13985bb38.dl.dropboxusercontent.com (uc1c67f5ba55935dade13985bb38.dl.dropboxusercontent.com)... 162.125.71.15, 2620:100:6021:15::a27d:410f\n",
      "Connecting to uc1c67f5ba55935dade13985bb38.dl.dropboxusercontent.com (uc1c67f5ba55935dade13985bb38.dl.dropboxusercontent.com)|162.125.71.15|:443... connected.\n",
      "HTTP request sent, awaiting response... 302 Found\n",
      "Location: /cd/0/inline2/Bl42dQGSrjR-qF3VC5NL6PjW476sGDi-ZEJfDx7qJkKP6uNnDXyHFchB6gjICwqtRke2qwJPzaYpNOgvmYU58oQO8BFv9A5gx-XqkkXozPuEm13NwMPpvgN0ouGXGteM3VxDvLwjkyLw0QyQ3Bi2v9CCXLt7yR3owkQ2FrAHs0e-GYpCTyu-yQ3jXjpxrC72OH8-rAnLzsnShF5JZ1H456H0zNAPgowFiV6zOTsKowJeIxRbWEvBSraVZccGEPHxMyYHYEwjEI_QtY4CsqG7Tc04Mnfd6_OMvHoNAZ6T-yeQ3Pn41NunB5Zx_VTS170axRxp04aImC4BBts3k8y1JSa-IccOr91HT7rglYL5itXcVGamphxKDLwbPVxntBRx_YgXL2j2cxB14Xa0GMd94EnY_VkHCS5IOzD1ulTAeSgcew/file [following]\n",
      "--2022-05-24 16:36:42--  https://uc1c67f5ba55935dade13985bb38.dl.dropboxusercontent.com/cd/0/inline2/Bl42dQGSrjR-qF3VC5NL6PjW476sGDi-ZEJfDx7qJkKP6uNnDXyHFchB6gjICwqtRke2qwJPzaYpNOgvmYU58oQO8BFv9A5gx-XqkkXozPuEm13NwMPpvgN0ouGXGteM3VxDvLwjkyLw0QyQ3Bi2v9CCXLt7yR3owkQ2FrAHs0e-GYpCTyu-yQ3jXjpxrC72OH8-rAnLzsnShF5JZ1H456H0zNAPgowFiV6zOTsKowJeIxRbWEvBSraVZccGEPHxMyYHYEwjEI_QtY4CsqG7Tc04Mnfd6_OMvHoNAZ6T-yeQ3Pn41NunB5Zx_VTS170axRxp04aImC4BBts3k8y1JSa-IccOr91HT7rglYL5itXcVGamphxKDLwbPVxntBRx_YgXL2j2cxB14Xa0GMd94EnY_VkHCS5IOzD1ulTAeSgcew/file\n",
      "Reusing existing connection to uc1c67f5ba55935dade13985bb38.dl.dropboxusercontent.com:443.\n",
      "HTTP request sent, awaiting response... 200 OK\n",
      "\n",
      "    The file is already fully retrieved; nothing to do.\n",
      "\n"
     ]
    }
   ]
  },
  {
   "cell_type": "code",
   "source": [
    "from MultilingualCLIP.src import multilingual_clip\n",
    "text_model = multilingual_clip.load_model('M-BERT-Distil-40')"
   ],
   "metadata": {
    "id": "I_zobJFSJ0en",
    "executionInfo": {
     "status": "ok",
     "timestamp": 1653410245078,
     "user_tz": -180,
     "elapsed": 6627,
     "user": {
      "displayName": "TheYellowBlueWhite",
      "userId": "06339693875169464138"
     }
    },
    "pycharm": {
     "name": "#%%\n"
    }
   },
   "execution_count": 6,
   "outputs": []
  },
  {
   "cell_type": "code",
   "source": [
    "clip_model, compose = clip.load('RN50x4')\n",
    "\n",
    "#input_resolution = clip_model.input_resolution.item()\n",
    "context_length = clip_model.context_length\n",
    "vocab_size = clip_model.vocab_size\n",
    "\n",
    "print(\"Model parameters:\", f\"{np.sum([int(np.prod(p.shape)) for p in clip_model.parameters()]):,}\")\n",
    "#print(\"Input resolution:\", input_resolution)\n",
    "print(\"Context length:\", context_length)\n",
    "print(\"Vocab size:\", vocab_size)"
   ],
   "metadata": {
    "colab": {
     "base_uri": "https://localhost:8080/"
    },
    "id": "XAFxRvdBJ49G",
    "executionInfo": {
     "status": "ok",
     "timestamp": 1653410268452,
     "user_tz": -180,
     "elapsed": 23380,
     "user": {
      "displayName": "TheYellowBlueWhite",
      "userId": "06339693875169464138"
     }
    },
    "outputId": "3cd3437b-4327-464b-d768-8dab3fc84903",
    "pycharm": {
     "name": "#%%\n"
    }
   },
   "execution_count": 7,
   "outputs": [
    {
     "output_type": "stream",
     "name": "stdout",
     "text": [
      "Model parameters: 178,300,601\n",
      "Context length: 77\n",
      "Vocab size: 49408\n"
     ]
    }
   ]
  },
  {
   "cell_type": "code",
   "source": [
    "%cd .."
   ],
   "metadata": {
    "colab": {
     "base_uri": "https://localhost:8080/"
    },
    "id": "hdz6fNfU7ibf",
    "executionInfo": {
     "status": "ok",
     "timestamp": 1653410269542,
     "user_tz": -180,
     "elapsed": 8,
     "user": {
      "displayName": "TheYellowBlueWhite",
      "userId": "06339693875169464138"
     }
    },
    "outputId": "86887436-d57f-4ceb-9d52-dbc71685d2f7",
    "pycharm": {
     "name": "#%%\n"
    }
   },
   "execution_count": 8,
   "outputs": [
    {
     "output_type": "stream",
     "name": "stdout",
     "text": [
      "/content\n"
     ]
    }
   ]
  },
  {
   "cell_type": "code",
   "source": [
    "import os \n",
    "\n",
    "dev_files = [file_ for file_ in os.listdir('wikicaps_v1.0') if file_[-3:]=='dev']\n",
    "test_files = [file_ for file_ in os.listdir('wikicaps_v1.0') if file_[-4:]=='test']\n",
    "bilingvs = [item[4:9] for item in test_files]"
   ],
   "metadata": {
    "id": "jgF4_FAlzocW",
    "executionInfo": {
     "status": "ok",
     "timestamp": 1653410273673,
     "user_tz": -180,
     "elapsed": 600,
     "user": {
      "displayName": "TheYellowBlueWhite",
      "userId": "06339693875169464138"
     }
    },
    "pycharm": {
     "name": "#%%\n"
    }
   },
   "execution_count": 9,
   "outputs": []
  },
  {
   "cell_type": "code",
   "source": [
    "bilingvs"
   ],
   "metadata": {
    "colab": {
     "base_uri": "https://localhost:8080/"
    },
    "id": "LOm5YNy30HyW",
    "executionInfo": {
     "status": "ok",
     "timestamp": 1653410275269,
     "user_tz": -180,
     "elapsed": 412,
     "user": {
      "displayName": "TheYellowBlueWhite",
      "userId": "06339693875169464138"
     }
    },
    "outputId": "8fc776bb-bddb-43a1-8df2-ca86e72910b1",
    "pycharm": {
     "name": "#%%\n"
    }
   },
   "execution_count": 10,
   "outputs": [
    {
     "output_type": "execute_result",
     "data": {
      "text/plain": [
       "['fr-en', 'de-en', 'ru-en']"
      ]
     },
     "metadata": {},
     "execution_count": 10
    }
   ]
  },
  {
   "cell_type": "code",
   "source": [
    "import csv\n",
    "\n",
    "\n",
    "dataset = dict()\n",
    "for pair in bilingvs:\n",
    "    cur_file = f'/content/wikicaps_v1.0/img_{pair}.tok.lc.filtered.dev'\n",
    "    data_first = []\n",
    "    data_second = []\n",
    "    with open(cur_file) as tsv: \n",
    "        for line in csv.reader(tsv, delimiter='\\t'):\n",
    "            _, content = line\n",
    "            first, second = content.split('|||')\n",
    "            data_first.append(first)\n",
    "            data_second.append(second)\n",
    "    dataset[pair] = [data_first, data_second]"
   ],
   "metadata": {
    "id": "htTHbqrkRBTv",
    "executionInfo": {
     "status": "ok",
     "timestamp": 1653410277292,
     "user_tz": -180,
     "elapsed": 568,
     "user": {
      "displayName": "TheYellowBlueWhite",
      "userId": "06339693875169464138"
     }
    },
    "pycharm": {
     "name": "#%%\n"
    }
   },
   "execution_count": 11,
   "outputs": []
  },
  {
   "cell_type": "code",
   "source": [
    "langauge_pairs = [['French', 'English'], ['Deutsch', 'English'], ['Russian', 'English']]"
   ],
   "metadata": {
    "id": "eS4tsnJ11nJK",
    "executionInfo": {
     "status": "ok",
     "timestamp": 1653410278673,
     "user_tz": -180,
     "elapsed": 9,
     "user": {
      "displayName": "TheYellowBlueWhite",
      "userId": "06339693875169464138"
     }
    },
    "pycharm": {
     "name": "#%%\n"
    }
   },
   "execution_count": 12,
   "outputs": []
  },
  {
   "cell_type": "code",
   "source": [
    "len(dataset['fr-en'][0])"
   ],
   "metadata": {
    "colab": {
     "base_uri": "https://localhost:8080/"
    },
    "id": "wAw9ntP98FCE",
    "executionInfo": {
     "status": "ok",
     "timestamp": 1653410400880,
     "user_tz": -180,
     "elapsed": 359,
     "user": {
      "displayName": "TheYellowBlueWhite",
      "userId": "06339693875169464138"
     }
    },
    "outputId": "ae60b574-f957-41e4-b256-596716a7ff9f",
    "pycharm": {
     "name": "#%%\n"
    }
   },
   "execution_count": 16,
   "outputs": [
    {
     "output_type": "execute_result",
     "data": {
      "text/plain": [
       "999"
      ]
     },
     "metadata": {},
     "execution_count": 16
    }
   ]
  },
  {
   "cell_type": "code",
   "source": [
    "batch_size = 100\n",
    "embeddings = dict()\n",
    "for pair in bilingvs: \n",
    "    data_first, data_second = dataset[pair]\n",
    "    with torch.no_grad():\n",
    "        cur_embs_first = []\n",
    "        cur_embs_second = []\n",
    "        for idx in range(0, len(data_first), batch_size):\n",
    "            batch_first = text_model(data_first[idx:idx+batch_size])\n",
    "            batch_second = text_model(data_second[idx:idx+batch_size])\n",
    "            cur_embs_first.append(batch_first)\n",
    "            cur_embs_second.append(batch_second)\n",
    "    embeddings[pair] = [torch.cat(cur_embs_first, dim=0), torch.cat(cur_embs_second, dim=0)]"
   ],
   "metadata": {
    "id": "SVavKdaR16GA",
    "executionInfo": {
     "status": "ok",
     "timestamp": 1653410971384,
     "user_tz": -180,
     "elapsed": 554046,
     "user": {
      "displayName": "TheYellowBlueWhite",
      "userId": "06339693875169464138"
     }
    },
    "pycharm": {
     "name": "#%%\n"
    }
   },
   "execution_count": 17,
   "outputs": []
  },
  {
   "cell_type": "code",
   "source": [
    "embeddings['fr-en'][1].shape"
   ],
   "metadata": {
    "colab": {
     "base_uri": "https://localhost:8080/"
    },
    "id": "112xop567_Mz",
    "executionInfo": {
     "status": "ok",
     "timestamp": 1653410990060,
     "user_tz": -180,
     "elapsed": 355,
     "user": {
      "displayName": "TheYellowBlueWhite",
      "userId": "06339693875169464138"
     }
    },
    "outputId": "55437f48-cbbb-49b2-da61-723767dbfc74",
    "pycharm": {
     "name": "#%%\n"
    }
   },
   "execution_count": 19,
   "outputs": [
    {
     "output_type": "execute_result",
     "data": {
      "text/plain": [
       "torch.Size([999, 640])"
      ]
     },
     "metadata": {},
     "execution_count": 19
    }
   ]
  },
  {
   "cell_type": "code",
   "source": [
    "fr_en_np = {'french': embeddings['fr-en'][0].numpy(), 'english': embeddings['fr-en'][1].numpy()}\n",
    "np.save('fr_en.npy', fr_en_np)\n",
    "de_en_np = {'deutsch': embeddings['de-en'][0].numpy(), 'english': embeddings['de-en'][1].numpy()}\n",
    "np.save('de_en.npy', de_en_np)\n",
    "ru_en_np = {'russian': embeddings['ru-en'][0].numpy(), 'english': embeddings['ru-en'][1].numpy()}\n",
    "np.save('ru_en.npy', ru_en_np)"
   ],
   "metadata": {
    "id": "F6unObVWBTEI",
    "executionInfo": {
     "status": "ok",
     "timestamp": 1653411846930,
     "user_tz": -180,
     "elapsed": 325,
     "user": {
      "displayName": "TheYellowBlueWhite",
      "userId": "06339693875169464138"
     }
    },
    "pycharm": {
     "name": "#%%\n"
    }
   },
   "execution_count": 36,
   "outputs": []
  },
  {
   "cell_type": "code",
   "source": [
    "import umap\n",
    "\n",
    "reducer = umap.UMAP()"
   ],
   "metadata": {
    "id": "TLifQyTrKHu6",
    "executionInfo": {
     "status": "ok",
     "timestamp": 1653411499521,
     "user_tz": -180,
     "elapsed": 556,
     "user": {
      "displayName": "TheYellowBlueWhite",
      "userId": "06339693875169464138"
     }
    },
    "pycharm": {
     "name": "#%%\n"
    }
   },
   "execution_count": 29,
   "outputs": []
  },
  {
   "cell_type": "code",
   "source": [
    "fr_en = torch.cat(embeddings['fr-en'], dim=0).numpy()\n",
    "fr_en_reduced = reducer.fit_transform(fr_en)"
   ],
   "metadata": {
    "id": "q4_D7CI3-gvC",
    "executionInfo": {
     "status": "ok",
     "timestamp": 1653411511182,
     "user_tz": -180,
     "elapsed": 10311,
     "user": {
      "displayName": "TheYellowBlueWhite",
      "userId": "06339693875169464138"
     }
    },
    "pycharm": {
     "name": "#%%\n"
    }
   },
   "execution_count": 30,
   "outputs": []
  },
  {
   "cell_type": "code",
   "source": [
    "de_en = torch.cat(embeddings['de-en'], dim=0).numpy()\n",
    "de_en_reduced = reducer.fit_transform(de_en)"
   ],
   "metadata": {
    "id": "sKZalJtcAI3f",
    "executionInfo": {
     "status": "ok",
     "timestamp": 1653411563614,
     "user_tz": -180,
     "elapsed": 15765,
     "user": {
      "displayName": "TheYellowBlueWhite",
      "userId": "06339693875169464138"
     }
    },
    "pycharm": {
     "name": "#%%\n"
    }
   },
   "execution_count": 32,
   "outputs": []
  },
  {
   "cell_type": "code",
   "source": [
    "ru_en = torch.cat(embeddings['ru-en'], dim=0).numpy()\n",
    "ru_en_reduced = reducer.fit_transform(ru_en)"
   ],
   "metadata": {
    "id": "JcjLcwv6AKEz",
    "executionInfo": {
     "status": "ok",
     "timestamp": 1653411521789,
     "user_tz": -180,
     "elapsed": 10619,
     "user": {
      "displayName": "TheYellowBlueWhite",
      "userId": "06339693875169464138"
     }
    },
    "pycharm": {
     "name": "#%%\n"
    }
   },
   "execution_count": 31,
   "outputs": []
  },
  {
   "cell_type": "code",
   "source": [
    "import matplotlib.pyplot as plt\n",
    "\n",
    "fig, axs = plt.subplots(1, 3, figsize=(30, 10))\n",
    "axs[0].scatter(fr_en_reduced[:999, 0], fr_en_reduced[:999, 1], label='French')\n",
    "axs[0].scatter(fr_en_reduced[999:, 0], fr_en_reduced[999:, 1], label='English')\n",
    "axs[0].legend()\n",
    "\n",
    "axs[1].scatter(de_en_reduced[:999, 0], de_en_reduced[:999, 1], label='Deutsch')\n",
    "axs[1].scatter(de_en_reduced[999:, 0], de_en_reduced[999:, 1], label='English')\n",
    "axs[1].legend()\n",
    "\n",
    "axs[2].scatter(ru_en_reduced[:999, 0], ru_en_reduced[:999, 1], label='Russian')\n",
    "axs[2].scatter(ru_en_reduced[999:, 0], ru_en_reduced[999:, 1], label='English')\n",
    "axs[2].legend()\n",
    "\n",
    "axs[1].set_title('2d UMAP projections of CLIP text embeddings')\n",
    "plt.show()"
   ],
   "metadata": {
    "colab": {
     "base_uri": "https://localhost:8080/",
     "height": 534
    },
    "id": "qIYVtg46-9Ec",
    "executionInfo": {
     "status": "ok",
     "timestamp": 1653411652490,
     "user_tz": -180,
     "elapsed": 1408,
     "user": {
      "displayName": "TheYellowBlueWhite",
      "userId": "06339693875169464138"
     }
    },
    "outputId": "1f67595d-ac47-4c38-bb4c-c184a1f8cd46",
    "pycharm": {
     "name": "#%%\n"
    }
   },
   "execution_count": 33,
   "outputs": [
    {
     "output_type": "display_data",
     "data": {
      "text/plain": [
       "<Figure size 2160x720 with 3 Axes>"
      ],
      "image/png": "[encoded data removed]"
     },
     "metadata": {
      "needs_background": "light"
     }
    }
   ]
  },
  {
   "cell_type": "code",
   "source": [
    "!gdown 1tgrRUqBvS33AGYfn_uVGrv-ekw0cjnVS\n",
    "!gdown 1btSl7bYT3FMoAadaoxA0KmTHhqia6SWs\n",
    "!gdown 1NvXTFbs8Di5wDoXmX9yEzesYrMYBqqJh"
   ],
   "metadata": {
    "colab": {
     "base_uri": "https://localhost:8080/"
    },
    "id": "D1GAUHV2DMk3",
    "executionInfo": {
     "status": "ok",
     "timestamp": 1653412377418,
     "user_tz": -180,
     "elapsed": 9362,
     "user": {
      "displayName": "TheYellowBlueWhite",
      "userId": "06339693875169464138"
     }
    },
    "outputId": "1cec455c-978b-4437-a913-b6b92c760103",
    "pycharm": {
     "name": "#%%\n"
    }
   },
   "execution_count": 55,
   "outputs": [
    {
     "output_type": "stream",
     "name": "stdout",
     "text": [
      "Downloading...\n",
      "From: https://drive.google.com/uc?id=1tgrRUqBvS33AGYfn_uVGrv-ekw0cjnVS\n",
      "To: /content/de_en.npy\n",
      "100% 5.12M/5.12M [00:00<00:00, 112MB/s]\n",
      "Downloading...\n",
      "From: https://drive.google.com/uc?id=1btSl7bYT3FMoAadaoxA0KmTHhqia6SWs\n",
      "To: /content/fr_en.npy\n",
      "100% 5.12M/5.12M [00:00<00:00, 73.1MB/s]\n",
      "Downloading...\n",
      "From: https://drive.google.com/uc?id=1NvXTFbs8Di5wDoXmX9yEzesYrMYBqqJh\n",
      "To: /content/ru_en.npy\n",
      "100% 5.12M/5.12M [00:00<00:00, 79.4MB/s]\n"
     ]
    }
   ]
  },
  {
   "cell_type": "code",
   "execution_count": 3,
   "outputs": [
    {
     "name": "stdout",
     "output_type": "stream",
     "text": [
      "dict_keys(['deutsch', 'english'])\n",
      "dict_keys(['french', 'english'])\n",
      "dict_keys(['russian', 'english'])\n"
     ]
    }
   ],
   "source": [
    "de_en = np.load('de_en.npy', allow_pickle=True).item()\n",
    "print(de_en.keys())\n",
    "fr_en = np.load('fr_en.npy', allow_pickle=True).item()\n",
    "print(fr_en.keys())\n",
    "ru_en = np.load('ru_en.npy', allow_pickle=True).item()\n",
    "print(ru_en.keys())"
   ],
   "metadata": {
    "collapsed": false,
    "pycharm": {
     "name": "#%%\n"
    }
   }
  },
  {
   "cell_type": "code",
   "execution_count": 25,
   "outputs": [],
   "source": [
    "def mean_pairwise_distance_to_mean_distance(cloud1, cloud2):\n",
    "    mean_pairwise = ((cloud1 - cloud2) ** 2).sum(-1).mean()\n",
    "    mean_dist = ((cloud1 - cloud2[:, None, :]) ** 2).sum(-1).mean()\n",
    "    return {\n",
    "        'mean pairwise distance': mean_pairwise,\n",
    "        'sort of mean distance': mean_dist,\n",
    "        'ratio': mean_pairwise / mean_dist\n",
    "    }"
   ],
   "metadata": {
    "collapsed": false,
    "pycharm": {
     "name": "#%%\n"
    }
   }
  },
  {
   "cell_type": "code",
   "execution_count": 26,
   "outputs": [
    {
     "data": {
      "text/plain": "{'mean pairwise distance': 10.565027,\n 'sort of mean distance': 37.85085,\n 'ratio': 0.2791226}"
     },
     "execution_count": 26,
     "metadata": {},
     "output_type": "execute_result"
    }
   ],
   "source": [
    "mean_pairwise_distance_to_mean_distance(de_en['deutsch'], de_en['english'])"
   ],
   "metadata": {
    "collapsed": false,
    "pycharm": {
     "name": "#%%\n"
    }
   }
  },
  {
   "cell_type": "code",
   "execution_count": 27,
   "outputs": [
    {
     "data": {
      "text/plain": "{'mean pairwise distance': 10.192693,\n 'sort of mean distance': 39.435593,\n 'ratio': 0.2584643}"
     },
     "execution_count": 27,
     "metadata": {},
     "output_type": "execute_result"
    }
   ],
   "source": [
    "mean_pairwise_distance_to_mean_distance(fr_en['french'], fr_en['english'])"
   ],
   "metadata": {
    "collapsed": false,
    "pycharm": {
     "name": "#%%\n"
    }
   }
  },
  {
   "cell_type": "code",
   "execution_count": 28,
   "outputs": [
    {
     "data": {
      "text/plain": "{'mean pairwise distance': 14.444049,\n 'sort of mean distance': 39.882046,\n 'ratio': 0.3621692}"
     },
     "execution_count": 28,
     "metadata": {},
     "output_type": "execute_result"
    }
   ],
   "source": [
    "mean_pairwise_distance_to_mean_distance(ru_en['russian'], ru_en['english'])"
   ],
   "metadata": {
    "collapsed": false,
    "pycharm": {
     "name": "#%%\n"
    }
   }
  },
  {
   "cell_type": "code",
   "execution_count": 36,
   "outputs": [],
   "source": [
    "from sklearn.metrics.pairwise import pairwise_distances\n",
    "from copy import copy\n",
    "import numpy as np\n",
    "import matplotlib.pyplot as plt\n",
    "import torch\n",
    "import ripserplusplus as rpp_py\n",
    "\n",
    "def pdist_gpu(a, b, device = 'cuda:0'):\n",
    "    A = torch.tensor(a, dtype = torch.float64)\n",
    "    B = torch.tensor(b, dtype = torch.float64)\n",
    "\n",
    "    size = (A.shape[0] + B.shape[0]) * A.shape[1] / 1e9\n",
    "    max_size = 0.2\n",
    "\n",
    "    if size > max_size:\n",
    "        parts = int(size / max_size) + 1\n",
    "    else:\n",
    "        parts = 1\n",
    "\n",
    "    pdist = np.zeros((A.shape[0], B.shape[0]))\n",
    "    At = A.to(device)\n",
    "\n",
    "    for p in range(parts):\n",
    "        i1 = int(p * B.shape[0] / parts)\n",
    "        i2 = int((p + 1) * B.shape[0] / parts)\n",
    "        i2 = min(i2, B.shape[0])\n",
    "\n",
    "        Bt = B[i1:i2].to(device)\n",
    "        pt = torch.cdist(At, Bt)\n",
    "        pdist[:, i1:i2] = pt.cpu()\n",
    "\n",
    "        del Bt, pt\n",
    "        torch.cuda.empty_cache()\n",
    "\n",
    "    del At\n",
    "\n",
    "    return pdist\n",
    "\n",
    "def sep_dist(a, b, pdist_device = 'cpu'):\n",
    "    if pdist_device == 'cpu':\n",
    "        d1 = pairwise_distances(b, a, n_jobs = 40)\n",
    "        d2 = pairwise_distances(b, b, n_jobs = 40)\n",
    "    else:\n",
    "        d1 = pdist_gpu(b, a, device = pdist_device)\n",
    "        d2 = pdist_gpu(b, b, device = pdist_device)\n",
    "\n",
    "    s = a.shape[0] + b.shape[0]\n",
    "\n",
    "    apr_d = np.zeros((s, s))\n",
    "    apr_d[a.shape[0]:, :a.shape[0]] = d1\n",
    "    apr_d[a.shape[0]:, a.shape[0]:] = d2\n",
    "\n",
    "    return apr_d\n",
    "\n",
    "def barc2array(barc):\n",
    "    keys = sorted(barc.keys())\n",
    "    arr = []\n",
    "\n",
    "    for k in keys:\n",
    "        res = np.zeros((len(barc[k]), 2), dtype = '<f4')\n",
    "\n",
    "        for idx in range(len(barc[k])):\n",
    "            elem = barc[k][idx]\n",
    "            res[idx, 0] = elem[0]\n",
    "            res[idx, 1] = elem[1]\n",
    "\n",
    "        arr.append(res)\n",
    "\n",
    "    return np.array(arr, dtype=object)\n",
    "\n",
    "def count_cross_barcodes(cloud_1, cloud_2, dim, title = '', is_plot = True, pdist_device = 'cpu'):\n",
    "\n",
    "    d = sep_dist(cloud_1, cloud_2, pdist_device = pdist_device)\n",
    "    m = d[cloud_1.shape[0]:, :cloud_1.shape[0]].mean()\n",
    "    d[:cloud_1.shape[0]][:cloud_1.shape[0]] = 0\n",
    "    d[d < m*(1e-6)] = 0\n",
    "    d_tril = d[np.tril_indices(d.shape[0], k = -1)]\n",
    "\n",
    "    barcodes = rpp_py.run(\"--format lower-distance --dim %d\" % dim, d_tril)\n",
    "    barcodes = barc2array(barcodes)\n",
    "\n",
    "    if is_plot:\n",
    "      plot_barcodes(barcodes, title = title)\n",
    "      plt.show()\n",
    "\n",
    "    return barcodes\n",
    "\n",
    "def plot_barcodes(arr, color_list = ['deepskyblue', 'limegreen', 'darkkhaki'], dark_color_list = None, title = '', hom = None):\n",
    "\n",
    "    if dark_color_list is None:\n",
    "        dark_color_list = color_list\n",
    "        #dark_color_list = ['b', 'g', 'orange']\n",
    "\n",
    "    sh = arr.shape[0]\n",
    "    step = 0\n",
    "    if (len(color_list) < sh):\n",
    "        color_list *= sh\n",
    "\n",
    "    for i in range(sh):\n",
    "\n",
    "        if not (hom is None):\n",
    "            if i not in hom:\n",
    "                continue\n",
    "\n",
    "        barc = arr[i].copy()\n",
    "        arrayForSort = np.subtract(barc[:,1],barc[:,0])\n",
    "\n",
    "        bsorted = np.sort(arrayForSort)\n",
    "        nbarc = bsorted.shape[0]\n",
    "        print(nbarc)\n",
    "        print('max0,976Barcode',i,'=',bsorted[nbarc*976//1000])\n",
    "        print('maxBarcode',i,'=',bsorted[-1])\n",
    "        print('middleBarcode',i,'=',bsorted[nbarc//2])\n",
    "        #print('minbarcode',i,'=',bsorted[0])\n",
    "        max = bsorted[-3:]\n",
    "        plt.plot(barc[0], np.ones(2)*step, color = color_list[i], label = 'H{}'.format(i))\n",
    "        for b in barc:\n",
    "            if b[1] - b[0] in max :\n",
    "                plt.plot(b, np.ones(2)*step, dark_color_list[i])\n",
    "            else:\n",
    "                plt.plot(b, np.ones(2)*step, color = color_list[i])\n",
    "            step += 1\n",
    "\n",
    "    plt.xlabel('$\\epsilon$ (time)')\n",
    "    plt.ylabel('segment')\n",
    "    plt.title(title)\n",
    "    plt.legend(loc = 'lower right')\n",
    "    plt.rcParams[\"figure.figsize\"] = [6, 4]\n",
    "\n",
    "def calc_cross_barcodes(cloud_1, cloud_2, batch_size1 = 4000, batch_size2 = 200, pdist_device = 'cpu', dim = 1, is_plot = True):\n",
    "\n",
    "    # NB !\n",
    "    # Swapping point clouds for consistency with the paper\n",
    "    cloud_1, cloud_2 = cloud_2, cloud_1\n",
    "    batch_size1, batch_size2 = batch_size2, batch_size1\n",
    "\n",
    "    batch_size1 = min(batch_size1, cloud_1.shape[0])\n",
    "    batch_size2 = min(batch_size2, cloud_2.shape[0])\n",
    "\n",
    "    indexes_1 = np.random.choice(cloud_1.shape[0], batch_size1, replace=False)\n",
    "    indexes_2 = np.random.choice(cloud_2.shape[0], batch_size2, replace=False)\n",
    "    cl_1 = cloud_1[indexes_1]\n",
    "    cl_2 = cloud_2[indexes_2]\n",
    "    barc = count_cross_barcodes(cl_1, cl_2, dim, is_plot = is_plot, title = '', pdist_device = pdist_device)\n",
    "\n",
    "    return barc\n",
    "\n",
    "def get_score(elem, h_idx, kind = ''):\n",
    "    if elem.shape[0] >= h_idx + 1:\n",
    "\n",
    "        barc = elem[h_idx]\n",
    "        arrayForSort = np.subtract(barc[:,1], barc[:,0])\n",
    "\n",
    "        bsorted = np.sort(arrayForSort)\n",
    "\n",
    "        # number of barcodes\n",
    "        if kind == 'nbarc':\n",
    "            return bsorted.shape[0]\n",
    "\n",
    "        # largest barcode\n",
    "        if kind == 'largest':\n",
    "            return bsorted[-1]\n",
    "\n",
    "        # quantile\n",
    "        if kind == 'quantile':\n",
    "            idx = int(0.976 * len(bsorted))\n",
    "            return bsorted[idx]\n",
    "\n",
    "        # sum of length\n",
    "        if kind == 'sum_length':\n",
    "            return np.sum(bsorted)\n",
    "\n",
    "        # sum of squared length\n",
    "        if kind == 'sum_sq_length':\n",
    "            return np.sum(bsorted**2)\n",
    "\n",
    "        raise ValueError('Unknown kind of score')\n",
    "\n",
    "    return 0\n",
    "\n",
    "#\n",
    "# P - first point cloud\n",
    "# Q - second point cloud\n",
    "# batch_size1 - number of points to sample from the first point cloud\n",
    "# batch_size2 - number of points to sample from the second point cloud\n",
    "# pdist_device - device to calculate pairwise distances 'cpu'/'cuda:N'\n",
    "#\n",
    "def mtopdiv(P, Q, batch_size1 = 1000, batch_size2 = 1000, n = 20, pdist_device = 'cuda:0', is_plot = False):\n",
    "    barcs = [calc_cross_barcodes(P, Q, batch_size1, batch_size2, pdist_device = pdist_device, is_plot = is_plot) for _ in range(n)]\n",
    "    return np.mean([get_score(x, 1, 'sum_length') for x in barcs])"
   ],
   "metadata": {
    "collapsed": false,
    "pycharm": {
     "name": "#%%\n"
    }
   }
  },
  {
   "cell_type": "code",
   "execution_count": 37,
   "outputs": [
    {
     "data": {
      "text/plain": "57.19353"
     },
     "execution_count": 37,
     "metadata": {},
     "output_type": "execute_result"
    }
   ],
   "source": [
    "mtopdiv(ru_en['russian'], ru_en['english'], pdist_device = 'cuda:0')"
   ],
   "metadata": {
    "collapsed": false,
    "pycharm": {
     "name": "#%%\n"
    }
   }
  },
  {
   "cell_type": "code",
   "execution_count": 38,
   "outputs": [
    {
     "data": {
      "text/plain": "44.175945"
     },
     "execution_count": 38,
     "metadata": {},
     "output_type": "execute_result"
    }
   ],
   "source": [
    "mtopdiv(fr_en['english'], de_en['english'], pdist_device = 'cuda:0')"
   ],
   "metadata": {
    "collapsed": false,
    "pycharm": {
     "name": "#%%\n"
    }
   }
  },
  {
   "cell_type": "code",
   "execution_count": 39,
   "outputs": [
    {
     "data": {
      "text/plain": "42.553425"
     },
     "execution_count": 39,
     "metadata": {},
     "output_type": "execute_result"
    }
   ],
   "source": [
    "mtopdiv(fr_en['french'], de_en['deutsch'], pdist_device = 'cuda:0')"
   ],
   "metadata": {
    "collapsed": false,
    "pycharm": {
     "name": "#%%\n"
    }
   }
  },
  {
   "cell_type": "code",
   "execution_count": 40,
   "outputs": [
    {
     "data": {
      "text/plain": "42.000984"
     },
     "execution_count": 40,
     "metadata": {},
     "output_type": "execute_result"
    }
   ],
   "source": [
    "mtopdiv(ru_en['russian'], de_en['deutsch'], pdist_device = 'cuda:0')"
   ],
   "metadata": {
    "collapsed": false,
    "pycharm": {
     "name": "#%%\n"
    }
   }
  }
 ],
 "metadata": {
  "accelerator": "GPU",
  "colab": {
   "name": "multilingual-clip.ipynb",
   "provenance": [],
   "collapsed_sections": [],
   "authorship_tag": "ABX9TyNswnXmXQq94WCai5lCIt3Y"
  },
  "kernelspec": {
   "display_name": "Python 3",
   "name": "python3"
  },
  "language_info": {
   "name": "python"
  }
 },
 "nbformat": 4,
 "nbformat_minor": 0
}