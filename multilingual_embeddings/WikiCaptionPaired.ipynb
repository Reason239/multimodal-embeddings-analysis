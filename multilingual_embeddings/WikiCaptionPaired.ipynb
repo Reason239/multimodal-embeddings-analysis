{
 "nbformat": 4,
 "nbformat_minor": 0,
 "metadata": {
  "colab": {
   "name": "WikiCaptionPaired.ipynb",
   "provenance": [],
   "collapsed_sections": [],
   "authorship_tag": "ABX9TyPe4Z6WbhLMueesmZ2sClxn"
  },
  "kernelspec": {
   "name": "python3",
   "display_name": "Python 3"
  },
  "language_info": {
   "name": "python"
  }
 },
 "cells": [
  {
   "cell_type": "markdown",
   "source": [
    "WikiCaption dataset has paired captions of images from wikipedia. 999 pairs German(Deutsch)-English, French-English, Russian-English.\n",
    "\n",
    "English captions in each pair are not the same( We can use each pair only separately."
   ],
   "metadata": {
    "id": "jL_I-3GiEHyR",
    "pycharm": {
     "name": "#%% md\n"
    }
   }
  },
  {
   "cell_type": "code",
   "execution_count": null,
   "metadata": {
    "id": "WAeWB7aJECkK",
    "pycharm": {
     "name": "#%%\n"
    }
   },
   "outputs": [],
   "source": [
    "!gdown 1tgrRUqBvS33AGYfn_uVGrv-ekw0cjnVS\n",
    "!gdown 1btSl7bYT3FMoAadaoxA0KmTHhqia6SWs\n",
    "!gdown 1NvXTFbs8Di5wDoXmX9yEzesYrMYBqqJh"
   ]
  },
  {
   "cell_type": "code",
   "source": [
    "de_en = np.load('/content/de_en.npy', allow_pickle=True).item()\n",
    "print(de_en.keys())\n",
    "fr_en = np.load('/content/fr_en.npy', allow_pickle=True).item()\n",
    "print(fr_en.keys())\n",
    "ru_en = np.load('/content/ru_en.npy', allow_pickle=True).item()\n",
    "print(ru_en.keys())"
   ],
   "metadata": {
    "id": "TrssNYGmEJsl",
    "pycharm": {
     "name": "#%%\n"
    }
   },
   "execution_count": null,
   "outputs": []
  }
 ]
}